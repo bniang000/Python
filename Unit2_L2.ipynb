{
  "nbformat": 4,
  "nbformat_minor": 0,
  "metadata": {
    "colab": {
      "name": "Unit2_L2.ipynb",
      "provenance": [],
      "authorship_tag": "ABX9TyPhU9+O2rq38ByTVhSJV39x",
      "include_colab_link": true
    },
    "kernelspec": {
      "name": "python3",
      "display_name": "Python 3"
    },
    "language_info": {
      "name": "python"
    }
  },
  "cells": [
    {
      "cell_type": "markdown",
      "metadata": {
        "id": "view-in-github",
        "colab_type": "text"
      },
      "source": [
        "<a href=\"https://colab.research.google.com/github/bniang000/Python/blob/main/Unit2_L2.ipynb\" target=\"_parent\"><img src=\"https://colab.research.google.com/assets/colab-badge.svg\" alt=\"Open In Colab\"/></a>"
      ]
    },
    {
      "cell_type": "markdown",
      "source": [
        "question 4"
      ],
      "metadata": {
        "id": "cHJJXQD6jp8Z"
      }
    },
    {
      "cell_type": "code",
      "execution_count": null,
      "metadata": {
        "id": "Q5YzX7_uVkxt",
        "colab": {
          "base_uri": "https://localhost:8080/"
        },
        "outputId": "ba455efb-bfbd-4cf4-fb46-c20fed4602f3"
      },
      "outputs": [
        {
          "output_type": "stream",
          "name": "stdout",
          "text": [
            "BabacarNiang@gmail.com\n"
          ]
        }
      ],
      "source": [
        "first_name = \"Babacar\"\n",
        "Last_name = \"Niang\"\n",
        "email_extension = \"@gmail.com\"\n",
        "message = first_name + Last_name + email_extension\n",
        "print (message)"
      ]
    },
    {
      "cell_type": "markdown",
      "source": [
        "question 5"
      ],
      "metadata": {
        "id": "esSZw8mvkxIy"
      }
    },
    {
      "cell_type": "code",
      "source": [
        "name = \"Mohamed Rassoul\"\n",
        "print(name.upper())\n",
        "print(name.lower())\n",
        "print(name.title())"
      ],
      "metadata": {
        "colab": {
          "base_uri": "https://localhost:8080/"
        },
        "id": "roNr1AlUk3RD",
        "outputId": "5f9465e1-a087-41a9-e8a5-958e9fdf92e8"
      },
      "execution_count": null,
      "outputs": [
        {
          "output_type": "stream",
          "name": "stdout",
          "text": [
            "MOHAMED RASSOUL\n",
            "mohamed rassoul\n",
            "Mohamed Rassoul\n"
          ]
        }
      ]
    },
    {
      "cell_type": "markdown",
      "source": [
        "question 6"
      ],
      "metadata": {
        "id": "8J2tA2O4lUQd"
      }
    },
    {
      "cell_type": "code",
      "source": [
        "name = \"Mohamed\"\n",
        "message = \"Hey\" + \" \" + name + \", \" + \"do you want to hang out on the 15th of this month ?\"\n",
        "print(message)"
      ],
      "metadata": {
        "colab": {
          "base_uri": "https://localhost:8080/"
        },
        "id": "BE9K_BnllYar",
        "outputId": "63a8ff77-2409-440b-a468-f0b51e7608d8"
      },
      "execution_count": null,
      "outputs": [
        {
          "output_type": "stream",
          "name": "stdout",
          "text": [
            "Hey Mohamed, do you want to hang out on the 15th of this month ?\n"
          ]
        }
      ]
    }
  ]
}